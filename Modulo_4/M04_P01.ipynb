{
 "cells": [
  {
   "cell_type": "code",
   "execution_count": 34,
   "metadata": {},
   "outputs": [
    {
     "name": "stdout",
     "output_type": "stream",
     "text": [
      "\"On average, the Moon moves 4 cm away from the Earth every year\n",
      " The highest daylight temperature of the Moon is 127 C\n",
      "Finalmente, actualiza el bucle(ciclo) para cambiar C a Celsius:\n",
      " The highest daylight temperature of the Moon is 127 Celcius\n"
     ]
    }
   ],
   "source": [
    "text = \"\"\"Interesting facts about the Moon. The Moon is Earth's only satellite . There are several interesting facts about the Moon and how it affects life here on Earth.\"On average, the Moon moves 4 cm away from the Earth every year. This yearly drift is not significant enough to cause immediate effects on Earth. The highest daylight temperature of the Moon is 127 C.\"\"\"\n",
    "\n",
    "#Primero, divide el texto en cada oración para trabajar con su contenido:\n",
    "\n",
    "TextoDivido =text.split('.')\n",
    "\n",
    "#Ahora, define algunas palabras clave para búsqueda que te ayudarán a determinar si una oración contiene un hecho.\n",
    "palabrasClave= [\"average\", \"temperature\", \"distance\"]\n",
    "\n",
    "palabraC = [\"C\"]\n",
    "\n",
    "#Cre un bucle para imprimir solo datos sobre la Luna que estén relacionados con las palabras clave definidas anteriormente:\n",
    "for oracion in TextoDivido: #asignamos a \"oracion\" cada frase del texto divido\n",
    "    for palabrabusca in palabrasClave: #asiganamos en el ciclo \"pabrabusca\" cada unas de las palabras clave\n",
    "     if palabrabusca in oracion: #Si encontramos la palabra clave dentro de la oracion debemos es true lo que ocaciona\n",
    "         print(oracion)  #Poder imprimir la oracion.\n",
    "         break #Fin de la secuencia. \n",
    "print(\"Finalmente, actualiza el bucle(ciclo) para cambiar C a Celsius:\")\n",
    "for oracion in TextoDivido: #asignamos a \"oracion\" cada frase del texto divido\n",
    "        for buscarC in palabraC: #asiganamos en el ciclo  \"BuscarC\" la letra C\n",
    "         if buscarC in oracion: #Si encontramos la letra C dentro de la oracion sabremos que es un true lo que ocaciona\n",
    "          print(oracion.replace('C','Celcius'))  #Poder imprimir la oracion.\n",
    "         break #Fin de la secuencia. \n",
    "\n",
    "   \n",
    "#print(text.replace('C','Celcius'))"
   ]
  }
 ],
 "metadata": {
  "interpreter": {
   "hash": "a98c17f1fa32b85fe9204b1ba50eda3d626513f94240dc2ad2d86c5ea0a63043"
  },
  "kernelspec": {
   "display_name": "Python 3.10.2 64-bit",
   "language": "python",
   "name": "python3"
  },
  "language_info": {
   "codemirror_mode": {
    "name": "ipython",
    "version": 3
   },
   "file_extension": ".py",
   "mimetype": "text/x-python",
   "name": "python",
   "nbconvert_exporter": "python",
   "pygments_lexer": "ipython3",
   "version": "3.10.2"
  },
  "orig_nbformat": 4
 },
 "nbformat": 4,
 "nbformat_minor": 2
}
