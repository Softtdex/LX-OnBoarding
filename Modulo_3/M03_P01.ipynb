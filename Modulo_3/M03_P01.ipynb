{
 "cells": [
  {
   "cell_type": "markdown",
   "metadata": {},
   "source": [
    "# Estacion de aviso de asteorides "
   ]
  },
  {
   "cell_type": "code",
   "execution_count": 8,
   "metadata": {},
   "outputs": [
    {
     "name": "stdout",
     "output_type": "stream",
     "text": [
      "Hoy vives, disfruta\n"
     ]
    }
   ],
   "source": [
    "VelocidadAst=3\n",
    "\n",
    "if float(VelocidadAst) > 25:\n",
    "    print(\"Advertencia corre por tu vida, un asteoride se acerca \")\n",
    "else:\n",
    "    print(\"Hoy vives, disfruta\")"
   ]
  }
 ],
 "metadata": {
  "interpreter": {
   "hash": "a98c17f1fa32b85fe9204b1ba50eda3d626513f94240dc2ad2d86c5ea0a63043"
  },
  "kernelspec": {
   "display_name": "Python 3.10.2 64-bit",
   "language": "python",
   "name": "python3"
  },
  "language_info": {
   "codemirror_mode": {
    "name": "ipython",
    "version": 3
   },
   "file_extension": ".py",
   "mimetype": "text/x-python",
   "name": "python",
   "nbconvert_exporter": "python",
   "pygments_lexer": "ipython3",
   "version": "3.10.2"
  },
  "orig_nbformat": 4
 },
 "nbformat": 4,
 "nbformat_minor": 2
}
