{
 "cells": [
  {
   "cell_type": "code",
   "execution_count": 61,
   "metadata": {},
   "outputs": [
    {
     "name": "stdout",
     "output_type": "stream",
     "text": [
      "Un lindo rayo de luz se ve en el cielo \n"
     ]
    }
   ],
   "source": [
    "velocidadAst=23\n",
    "tamnoAst=20\n",
    "\n",
    "if float(tamnoAst)<= 1000:\n",
    " if float(velocidadAst) >= 20 and float(tamnoAst) >=25: \n",
    "    print(\"Un lindo rayo de luz se ve en el cielo \")\n",
    "    if float(velocidadAst) > 25:\n",
    "     print(\"Advertencia corre por tu vida, un asteoride se acerca \") \n",
    " else:\n",
    "  if float(velocidadAst) >= 20 and float(tamnoAst) < 25: \n",
    "            print(\"Un pequeño rayo de luz se ve en el cielo \")\n",
    "            if float(velocidadAst) > 25:\n",
    "             print(\"Un asteroide se acerco a gran velocidad, pero este se perdio en la atmosfera\")\n",
    "  else:\n",
    "          print(\"Hoy no hay alertas, buen dia. \")\n",
    "else:\n",
    "    print(\"El asteroide es mayor a 1000m ya ni para que corres, Adios! \")"
   ]
  }
 ],
 "metadata": {
  "interpreter": {
   "hash": "a98c17f1fa32b85fe9204b1ba50eda3d626513f94240dc2ad2d86c5ea0a63043"
  },
  "kernelspec": {
   "display_name": "Python 3.10.2 64-bit",
   "language": "python",
   "name": "python3"
  },
  "language_info": {
   "codemirror_mode": {
    "name": "ipython",
    "version": 3
   },
   "file_extension": ".py",
   "mimetype": "text/x-python",
   "name": "python",
   "nbconvert_exporter": "python",
   "pygments_lexer": "ipython3",
   "version": "3.10.2"
  },
  "orig_nbformat": 4
 },
 "nbformat": 4,
 "nbformat_minor": 2
}
