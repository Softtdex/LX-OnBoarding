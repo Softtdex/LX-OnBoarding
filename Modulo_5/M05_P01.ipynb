{
 "cells": [
  {
   "cell_type": "code",
   "execution_count": 10,
   "metadata": {},
   "outputs": [
    {
     "name": "stdout",
     "output_type": "stream",
     "text": [
      "La distancia es:628949330 Kms\n",
      "La distancia es:390577533.93 Kms\n"
     ]
    }
   ],
   "source": [
    "planet1 = 149597870 \n",
    "planet2 = 778547200\n",
    "\n",
    "DistanciaPlanetas = planet1 - planet2\n",
    " \n",
    "print(\"La distancia es:\"+str(abs(DistanciaPlanetas))+ \" Kms\")\n",
    "print(\"La distancia es:\"+str(abs(DistanciaPlanetas*0.621))+ \" Kms\")\n"
   ]
  }
 ],
 "metadata": {
  "interpreter": {
   "hash": "a98c17f1fa32b85fe9204b1ba50eda3d626513f94240dc2ad2d86c5ea0a63043"
  },
  "kernelspec": {
   "display_name": "Python 3.10.2 64-bit",
   "language": "python",
   "name": "python3"
  },
  "language_info": {
   "codemirror_mode": {
    "name": "ipython",
    "version": 3
   },
   "file_extension": ".py",
   "mimetype": "text/x-python",
   "name": "python",
   "nbconvert_exporter": "python",
   "pygments_lexer": "ipython3",
   "version": "3.10.2"
  },
  "orig_nbformat": 4
 },
 "nbformat": 4,
 "nbformat_minor": 2
}
