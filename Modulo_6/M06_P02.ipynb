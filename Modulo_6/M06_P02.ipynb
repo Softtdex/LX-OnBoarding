{
 "cells": [
  {
   "cell_type": "code",
   "execution_count": 9,
   "metadata": {},
   "outputs": [
    {
     "name": "stdout",
     "output_type": "stream",
     "text": [
      "Los planetas mas cercanos al sol antes de:Urano\n",
      "['Mercurio', 'Venus', 'Tierra', 'Marte', 'Jupiter', 'Saturno']\n",
      "El planeta mas lejanos al sol despues de:Urano\n",
      "Neptuno\n"
     ]
    }
   ],
   "source": [
    "# Lista de planetas\n",
    "planets = ['Mercurio', 'Venus', 'Tierra', 'Marte', 'Jupiter', 'Saturno', 'Urano', 'Neptuno']\n",
    "\n",
    "# Solicitamos el nombre de un planeta\n",
    "\n",
    "nombre_planeta = input(\"Ingrese El nombre de un planeta\")\n",
    "# Busca el planeta en la lista\n",
    "planeta_index = planets.index(nombre_planeta)\n",
    "\n",
    "# Muestra los planetas más cercanos al sol\n",
    "\n",
    "print('Los planetas mas cercanos al sol antes de:' + nombre_planeta)\n",
    "print(planets[0:planeta_index])\n",
    "\n",
    "print('El planeta mas lejanos al sol despues de:' + nombre_planeta)\n",
    "print(planets[planeta_index +1])"
   ]
  }
 ],
 "metadata": {
  "interpreter": {
   "hash": "a98c17f1fa32b85fe9204b1ba50eda3d626513f94240dc2ad2d86c5ea0a63043"
  },
  "kernelspec": {
   "display_name": "Python 3.10.2 64-bit",
   "language": "python",
   "name": "python3"
  },
  "language_info": {
   "codemirror_mode": {
    "name": "ipython",
    "version": 3
   },
   "file_extension": ".py",
   "mimetype": "text/x-python",
   "name": "python",
   "nbconvert_exporter": "python",
   "pygments_lexer": "ipython3",
   "version": "3.10.2"
  },
  "orig_nbformat": 4
 },
 "nbformat": 4,
 "nbformat_minor": 2
}
