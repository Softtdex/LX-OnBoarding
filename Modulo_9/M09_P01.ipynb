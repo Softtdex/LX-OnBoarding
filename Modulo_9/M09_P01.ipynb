{
 "cells": [
  {
   "cell_type": "code",
   "execution_count": 5,
   "metadata": {},
   "outputs": [
    {
     "name": "stdout",
     "output_type": "stream",
     "text": [
      "Total del reporte:\n",
      "    Promedio:: 70.0%\n",
      "    Tanque 1: 70%\n",
      "    Tanque 2: 70%\n",
      "    Tanque 3: 70% \n",
      "    \n",
      "Total del reporte:\n",
      "    Promedio:: <function promedioF at 0x0000023485E4C4C0>%\n",
      "    Tanque 1: 70%\n",
      "    Tanque 2: 70%\n",
      "    Tanque 3: 70% \n",
      "    \n"
     ]
    }
   ],
   "source": [
    "tanque1 = input(\"¿Cual es la capacidad del tanque 1?\")\n",
    "tanque1 = int(tanque1)\n",
    "tanque2 = input(\"¿Cual es la capacidad del tanque 2?\")\n",
    "tanque2 = int(tanque2)\n",
    "tanque3 = input(\"¿Cual es la capacidad del tanque 3?\")\n",
    "tanque3 = int(tanque3)\n",
    "\n",
    "def reporte(tanque1, tanque2, tanque3):\n",
    "    promedio = (tanque1 + tanque2 + tanque3) / 3\n",
    "    return f\"\"\"Total del reporte:\n",
    "    Promedio:: {promedio}%\n",
    "    Tanque 1: {tanque1}%\n",
    "    Tanque 2: {tanque2}%\n",
    "    Tanque 3: {tanque3}% \n",
    "    \"\"\"\n",
    "# Llamamos a la función que genera el reporte print(funcion(tanque1, tanque2, tanque3))\n",
    "\n",
    "print(reporte(tanque1,tanque2,tanque3))\n",
    "# Función promedio \n",
    "\n",
    "def promedioF(valores):\n",
    "    total = sum(valores)\n",
    "    numero_items = len(valores)\n",
    "    return total / numero_items\n",
    "\n",
    "#promedioF([tanque1,tanque2,tanque3])\n",
    "\n",
    "# Actualiza la función\n",
    "def reporte2(tanque1, tanque2, tanque3):\n",
    "    return f\"\"\"Total del reporte:\n",
    "    Promedio:: {promedioF([tanque1,tanque2,tanque3])}%\n",
    "    Tanque 1: {tanque1}%\n",
    "    Tanque 2: {tanque2}%\n",
    "    Tanque 3: {tanque3}% \n",
    "    \"\"\"\n",
    "print(reporte2(tanque1,tanque2,tanque3))\n"
   ]
  }
 ],
 "metadata": {
  "interpreter": {
   "hash": "a98c17f1fa32b85fe9204b1ba50eda3d626513f94240dc2ad2d86c5ea0a63043"
  },
  "kernelspec": {
   "display_name": "Python 3.10.2 64-bit",
   "language": "python",
   "name": "python3"
  },
  "language_info": {
   "codemirror_mode": {
    "name": "ipython",
    "version": 3
   },
   "file_extension": ".py",
   "mimetype": "text/x-python",
   "name": "python",
   "nbconvert_exporter": "python",
   "pygments_lexer": "ipython3",
   "version": "3.10.2"
  },
  "orig_nbformat": 4
 },
 "nbformat": 4,
 "nbformat_minor": 2
}
